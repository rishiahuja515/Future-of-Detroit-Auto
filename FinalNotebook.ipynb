{
 "cells": [
  {
   "cell_type": "markdown",
   "id": "b050f34c",
   "metadata": {},
   "source": [
    "# The Future of Detroit Auto"
   ]
  },
  {
   "cell_type": "markdown",
   "id": "075ea148",
   "metadata": {},
   "source": [
    "Authors : Rishi Ahuja"
   ]
  },
  {
   "cell_type": "markdown",
   "id": "fd825126",
   "metadata": {},
   "source": [
    "General Motors is the largest automanufacturing company headquartered in the United Staes. With the recent shift to Electric Vehicles, GM has hired Ahuja Consulting to predict the future price of gasoline to decide whether to invest drastically more in EV."
   ]
  },
  {
   "cell_type": "markdown",
   "id": "3d476b57",
   "metadata": {},
   "source": [
    "# Business Understanding"
   ]
  },
  {
   "cell_type": "markdown",
   "id": "65a19a36",
   "metadata": {},
   "source": [
    "Our goal is to inform General Motors if the price of Gasoline will continue to raise over time and because of our results, should General Motors decide to invest significantly more in Electric Vehicles. The cost of a barrel is nearing an all time high and ccording to the US Department of Energy, Gasoline has to be at $2.50 a gallon to make the cost of owning and operating an EV worth it."
   ]
  },
  {
   "cell_type": "code",
   "execution_count": 63,
   "id": "fb8bbbae",
   "metadata": {},
   "outputs": [],
   "source": [
    "import pandas as pd \n",
    "import numpy as np\n",
    "import matplotlib.pyplot as plt\n",
    "from math import sqrt\n",
    "import warnings\n",
    "\n",
    "from sklearn.metrics import mean_squared_error\n",
    "from statsmodels.tsa.stattools import adfuller\n",
    "from statsmodels.tsa.arima.model import ARIMA\n",
    "from statsmodels.graphics.tsaplots import plot_acf, plot_pacf"
   ]
  },
  {
   "cell_type": "markdown",
   "id": "42c5ba65",
   "metadata": {},
   "source": [
    "We initially generated some charts to examine the data at a high level.  \n",
    "Our first chart plotted the price of WTI Oil and the Price of Henry Hub Gas. "
   ]
  },
  {
   "cell_type": "code",
   "execution_count": 64,
   "id": "ee69879b",
   "metadata": {},
   "outputs": [
    {
     "data": {
      "text/html": [
       "<div>\n",
       "<style scoped>\n",
       "    .dataframe tbody tr th:only-of-type {\n",
       "        vertical-align: middle;\n",
       "    }\n",
       "\n",
       "    .dataframe tbody tr th {\n",
       "        vertical-align: top;\n",
       "    }\n",
       "\n",
       "    .dataframe thead th {\n",
       "        text-align: right;\n",
       "    }\n",
       "</style>\n",
       "<table border=\"1\" class=\"dataframe\">\n",
       "  <thead>\n",
       "    <tr style=\"text-align: right;\">\n",
       "      <th></th>\n",
       "      <th>Day</th>\n",
       "      <th>Series ID: PET.RWTC.D Dollars per Barrel</th>\n",
       "    </tr>\n",
       "  </thead>\n",
       "  <tbody>\n",
       "    <tr>\n",
       "      <th>0</th>\n",
       "      <td>6/28/22</td>\n",
       "      <td>113.66</td>\n",
       "    </tr>\n",
       "    <tr>\n",
       "      <th>1</th>\n",
       "      <td>6/27/22</td>\n",
       "      <td>111.44</td>\n",
       "    </tr>\n",
       "    <tr>\n",
       "      <th>2</th>\n",
       "      <td>6/24/22</td>\n",
       "      <td>109.07</td>\n",
       "    </tr>\n",
       "    <tr>\n",
       "      <th>3</th>\n",
       "      <td>6/23/22</td>\n",
       "      <td>105.75</td>\n",
       "    </tr>\n",
       "    <tr>\n",
       "      <th>4</th>\n",
       "      <td>6/22/22</td>\n",
       "      <td>106.22</td>\n",
       "    </tr>\n",
       "  </tbody>\n",
       "</table>\n",
       "</div>"
      ],
      "text/plain": [
       "       Day  Series ID: PET.RWTC.D Dollars per Barrel\n",
       "0  6/28/22                                    113.66\n",
       "1  6/27/22                                    111.44\n",
       "2  6/24/22                                    109.07\n",
       "3  6/23/22                                    105.75\n",
       "4  6/22/22                                    106.22"
      ]
     },
     "execution_count": 64,
     "metadata": {},
     "output_type": "execute_result"
    }
   ],
   "source": [
    "df_oil = pd.read_csv(\"data/Cushing_OK_WTI_Spot_Price_FOB_Daily.csv\")\n",
    "df_oil.head()"
   ]
  },
  {
   "cell_type": "code",
   "execution_count": 65,
   "id": "46efcac9",
   "metadata": {},
   "outputs": [
    {
     "name": "stdout",
     "output_type": "stream",
     "text": [
      "<class 'pandas.core.frame.DataFrame'>\n",
      "RangeIndex: 9206 entries, 0 to 9205\n",
      "Data columns (total 2 columns):\n",
      " #   Column                                    Non-Null Count  Dtype  \n",
      "---  ------                                    --------------  -----  \n",
      " 0   Day                                       9206 non-null   object \n",
      " 1   Series ID: PET.RWTC.D Dollars per Barrel  9206 non-null   float64\n",
      "dtypes: float64(1), object(1)\n",
      "memory usage: 144.0+ KB\n"
     ]
    }
   ],
   "source": [
    "df_oil.info()"
   ]
  },
  {
   "cell_type": "code",
   "execution_count": 66,
   "id": "5e6edc79",
   "metadata": {},
   "outputs": [],
   "source": [
    "df_natgas = pd.read_csv(\"data/Henry_Hub_Natural_Gas_Spot_Price_Daily.csv\")"
   ]
  },
  {
   "cell_type": "code",
   "execution_count": 67,
   "id": "41e04484",
   "metadata": {},
   "outputs": [
    {
     "name": "stdout",
     "output_type": "stream",
     "text": [
      "<class 'pandas.core.frame.DataFrame'>\n",
      "RangeIndex: 6424 entries, 0 to 6423\n",
      "Data columns (total 2 columns):\n",
      " #   Column                                           Non-Null Count  Dtype  \n",
      "---  ------                                           --------------  -----  \n",
      " 0   Day                                              6424 non-null   object \n",
      " 1   Series ID: NG.RNGWHHD.D Dollars per Million Btu  6423 non-null   float64\n",
      "dtypes: float64(1), object(1)\n",
      "memory usage: 100.5+ KB\n"
     ]
    }
   ],
   "source": [
    "df_natgas.info()"
   ]
  },
  {
   "cell_type": "code",
   "execution_count": 68,
   "id": "40310549",
   "metadata": {},
   "outputs": [
    {
     "data": {
      "text/html": [
       "<div>\n",
       "<style scoped>\n",
       "    .dataframe tbody tr th:only-of-type {\n",
       "        vertical-align: middle;\n",
       "    }\n",
       "\n",
       "    .dataframe tbody tr th {\n",
       "        vertical-align: top;\n",
       "    }\n",
       "\n",
       "    .dataframe thead th {\n",
       "        text-align: right;\n",
       "    }\n",
       "</style>\n",
       "<table border=\"1\" class=\"dataframe\">\n",
       "  <thead>\n",
       "    <tr style=\"text-align: right;\">\n",
       "      <th></th>\n",
       "      <th>Day</th>\n",
       "      <th>Series ID: NG.RNGWHHD.D Dollars per Million Btu</th>\n",
       "    </tr>\n",
       "  </thead>\n",
       "  <tbody>\n",
       "    <tr>\n",
       "      <th>0</th>\n",
       "      <td>6/28/22</td>\n",
       "      <td>6.66</td>\n",
       "    </tr>\n",
       "    <tr>\n",
       "      <th>1</th>\n",
       "      <td>6/27/22</td>\n",
       "      <td>6.09</td>\n",
       "    </tr>\n",
       "    <tr>\n",
       "      <th>2</th>\n",
       "      <td>6/24/22</td>\n",
       "      <td>5.80</td>\n",
       "    </tr>\n",
       "    <tr>\n",
       "      <th>3</th>\n",
       "      <td>6/23/22</td>\n",
       "      <td>6.54</td>\n",
       "    </tr>\n",
       "    <tr>\n",
       "      <th>4</th>\n",
       "      <td>6/22/22</td>\n",
       "      <td>6.76</td>\n",
       "    </tr>\n",
       "  </tbody>\n",
       "</table>\n",
       "</div>"
      ],
      "text/plain": [
       "       Day  Series ID: NG.RNGWHHD.D Dollars per Million Btu\n",
       "0  6/28/22                                             6.66\n",
       "1  6/27/22                                             6.09\n",
       "2  6/24/22                                             5.80\n",
       "3  6/23/22                                             6.54\n",
       "4  6/22/22                                             6.76"
      ]
     },
     "execution_count": 68,
     "metadata": {},
     "output_type": "execute_result"
    }
   ],
   "source": [
    "df_natgas.head()"
   ]
  },
  {
   "cell_type": "code",
   "execution_count": 69,
   "id": "fe5fe33f",
   "metadata": {},
   "outputs": [],
   "source": [
    "df_oilgas = pd.merge(df_oil, df_natgas, on=[\"Day\"])"
   ]
  },
  {
   "cell_type": "code",
   "execution_count": 70,
   "id": "e5f1ba45",
   "metadata": {},
   "outputs": [
    {
     "data": {
      "text/html": [
       "<div>\n",
       "<style scoped>\n",
       "    .dataframe tbody tr th:only-of-type {\n",
       "        vertical-align: middle;\n",
       "    }\n",
       "\n",
       "    .dataframe tbody tr th {\n",
       "        vertical-align: top;\n",
       "    }\n",
       "\n",
       "    .dataframe thead th {\n",
       "        text-align: right;\n",
       "    }\n",
       "</style>\n",
       "<table border=\"1\" class=\"dataframe\">\n",
       "  <thead>\n",
       "    <tr style=\"text-align: right;\">\n",
       "      <th></th>\n",
       "      <th>Day</th>\n",
       "      <th>Series ID: PET.RWTC.D Dollars per Barrel</th>\n",
       "      <th>Series ID: NG.RNGWHHD.D Dollars per Million Btu</th>\n",
       "    </tr>\n",
       "  </thead>\n",
       "  <tbody>\n",
       "    <tr>\n",
       "      <th>0</th>\n",
       "      <td>6/28/22</td>\n",
       "      <td>113.66</td>\n",
       "      <td>6.66</td>\n",
       "    </tr>\n",
       "    <tr>\n",
       "      <th>1</th>\n",
       "      <td>6/27/22</td>\n",
       "      <td>111.44</td>\n",
       "      <td>6.09</td>\n",
       "    </tr>\n",
       "    <tr>\n",
       "      <th>2</th>\n",
       "      <td>6/24/22</td>\n",
       "      <td>109.07</td>\n",
       "      <td>5.80</td>\n",
       "    </tr>\n",
       "    <tr>\n",
       "      <th>3</th>\n",
       "      <td>6/23/22</td>\n",
       "      <td>105.75</td>\n",
       "      <td>6.54</td>\n",
       "    </tr>\n",
       "    <tr>\n",
       "      <th>4</th>\n",
       "      <td>6/22/22</td>\n",
       "      <td>106.22</td>\n",
       "      <td>6.76</td>\n",
       "    </tr>\n",
       "    <tr>\n",
       "      <th>...</th>\n",
       "      <td>...</td>\n",
       "      <td>...</td>\n",
       "      <td>...</td>\n",
       "    </tr>\n",
       "    <tr>\n",
       "      <th>6386</th>\n",
       "      <td>1/13/97</td>\n",
       "      <td>25.20</td>\n",
       "      <td>4.00</td>\n",
       "    </tr>\n",
       "    <tr>\n",
       "      <th>6387</th>\n",
       "      <td>1/10/97</td>\n",
       "      <td>26.15</td>\n",
       "      <td>3.92</td>\n",
       "    </tr>\n",
       "    <tr>\n",
       "      <th>6388</th>\n",
       "      <td>1/9/97</td>\n",
       "      <td>26.30</td>\n",
       "      <td>3.61</td>\n",
       "    </tr>\n",
       "    <tr>\n",
       "      <th>6389</th>\n",
       "      <td>1/8/97</td>\n",
       "      <td>26.55</td>\n",
       "      <td>3.80</td>\n",
       "    </tr>\n",
       "    <tr>\n",
       "      <th>6390</th>\n",
       "      <td>1/7/97</td>\n",
       "      <td>26.25</td>\n",
       "      <td>3.82</td>\n",
       "    </tr>\n",
       "  </tbody>\n",
       "</table>\n",
       "<p>6391 rows × 3 columns</p>\n",
       "</div>"
      ],
      "text/plain": [
       "          Day  Series ID: PET.RWTC.D Dollars per Barrel  \\\n",
       "0     6/28/22                                    113.66   \n",
       "1     6/27/22                                    111.44   \n",
       "2     6/24/22                                    109.07   \n",
       "3     6/23/22                                    105.75   \n",
       "4     6/22/22                                    106.22   \n",
       "...       ...                                       ...   \n",
       "6386  1/13/97                                     25.20   \n",
       "6387  1/10/97                                     26.15   \n",
       "6388   1/9/97                                     26.30   \n",
       "6389   1/8/97                                     26.55   \n",
       "6390   1/7/97                                     26.25   \n",
       "\n",
       "      Series ID: NG.RNGWHHD.D Dollars per Million Btu  \n",
       "0                                                6.66  \n",
       "1                                                6.09  \n",
       "2                                                5.80  \n",
       "3                                                6.54  \n",
       "4                                                6.76  \n",
       "...                                               ...  \n",
       "6386                                             4.00  \n",
       "6387                                             3.92  \n",
       "6388                                             3.61  \n",
       "6389                                             3.80  \n",
       "6390                                             3.82  \n",
       "\n",
       "[6391 rows x 3 columns]"
      ]
     },
     "execution_count": 70,
     "metadata": {},
     "output_type": "execute_result"
    }
   ],
   "source": [
    "df_oilgas"
   ]
  },
  {
   "cell_type": "code",
   "execution_count": 71,
   "id": "96cf0837",
   "metadata": {},
   "outputs": [],
   "source": [
    "df_oilgas.rename(columns = {'Series ID: PET.RWTC.D Dollars per Barrel':'WTI Oil', 'Series ID: NG.RNGWHHD.D Dollars per Million Btu':'Henry Hub Gas'}, inplace = True)"
   ]
  },
  {
   "cell_type": "code",
   "execution_count": 72,
   "id": "77307225",
   "metadata": {
    "scrolled": true
   },
   "outputs": [
    {
     "data": {
      "text/html": [
       "<div>\n",
       "<style scoped>\n",
       "    .dataframe tbody tr th:only-of-type {\n",
       "        vertical-align: middle;\n",
       "    }\n",
       "\n",
       "    .dataframe tbody tr th {\n",
       "        vertical-align: top;\n",
       "    }\n",
       "\n",
       "    .dataframe thead th {\n",
       "        text-align: right;\n",
       "    }\n",
       "</style>\n",
       "<table border=\"1\" class=\"dataframe\">\n",
       "  <thead>\n",
       "    <tr style=\"text-align: right;\">\n",
       "      <th></th>\n",
       "      <th>Day</th>\n",
       "      <th>WTI Oil</th>\n",
       "      <th>Henry Hub Gas</th>\n",
       "    </tr>\n",
       "  </thead>\n",
       "  <tbody>\n",
       "    <tr>\n",
       "      <th>0</th>\n",
       "      <td>6/28/22</td>\n",
       "      <td>113.66</td>\n",
       "      <td>6.66</td>\n",
       "    </tr>\n",
       "    <tr>\n",
       "      <th>1</th>\n",
       "      <td>6/27/22</td>\n",
       "      <td>111.44</td>\n",
       "      <td>6.09</td>\n",
       "    </tr>\n",
       "    <tr>\n",
       "      <th>2</th>\n",
       "      <td>6/24/22</td>\n",
       "      <td>109.07</td>\n",
       "      <td>5.80</td>\n",
       "    </tr>\n",
       "    <tr>\n",
       "      <th>3</th>\n",
       "      <td>6/23/22</td>\n",
       "      <td>105.75</td>\n",
       "      <td>6.54</td>\n",
       "    </tr>\n",
       "    <tr>\n",
       "      <th>4</th>\n",
       "      <td>6/22/22</td>\n",
       "      <td>106.22</td>\n",
       "      <td>6.76</td>\n",
       "    </tr>\n",
       "  </tbody>\n",
       "</table>\n",
       "</div>"
      ],
      "text/plain": [
       "       Day  WTI Oil  Henry Hub Gas\n",
       "0  6/28/22   113.66           6.66\n",
       "1  6/27/22   111.44           6.09\n",
       "2  6/24/22   109.07           5.80\n",
       "3  6/23/22   105.75           6.54\n",
       "4  6/22/22   106.22           6.76"
      ]
     },
     "execution_count": 72,
     "metadata": {},
     "output_type": "execute_result"
    }
   ],
   "source": [
    "df_oilgas.head()"
   ]
  },
  {
   "cell_type": "code",
   "execution_count": 73,
   "id": "240561ed",
   "metadata": {},
   "outputs": [],
   "source": [
    "df_oilgas['Day'] = pd.to_datetime(df_oilgas['Day'])"
   ]
  },
  {
   "cell_type": "code",
   "execution_count": 74,
   "id": "f4d06b49",
   "metadata": {},
   "outputs": [],
   "source": [
    "df_oilgas = df_oilgas.sort_values(\"Day\")"
   ]
  },
  {
   "cell_type": "code",
   "execution_count": 75,
   "id": "08d4cbcb",
   "metadata": {},
   "outputs": [
    {
     "data": {
      "text/html": [
       "<div>\n",
       "<style scoped>\n",
       "    .dataframe tbody tr th:only-of-type {\n",
       "        vertical-align: middle;\n",
       "    }\n",
       "\n",
       "    .dataframe tbody tr th {\n",
       "        vertical-align: top;\n",
       "    }\n",
       "\n",
       "    .dataframe thead th {\n",
       "        text-align: right;\n",
       "    }\n",
       "</style>\n",
       "<table border=\"1\" class=\"dataframe\">\n",
       "  <thead>\n",
       "    <tr style=\"text-align: right;\">\n",
       "      <th></th>\n",
       "      <th>Day</th>\n",
       "      <th>WTI Oil</th>\n",
       "      <th>Henry Hub Gas</th>\n",
       "    </tr>\n",
       "  </thead>\n",
       "  <tbody>\n",
       "    <tr>\n",
       "      <th>6390</th>\n",
       "      <td>1997-01-07</td>\n",
       "      <td>26.25</td>\n",
       "      <td>3.82</td>\n",
       "    </tr>\n",
       "    <tr>\n",
       "      <th>6389</th>\n",
       "      <td>1997-01-08</td>\n",
       "      <td>26.55</td>\n",
       "      <td>3.80</td>\n",
       "    </tr>\n",
       "    <tr>\n",
       "      <th>6388</th>\n",
       "      <td>1997-01-09</td>\n",
       "      <td>26.30</td>\n",
       "      <td>3.61</td>\n",
       "    </tr>\n",
       "    <tr>\n",
       "      <th>6387</th>\n",
       "      <td>1997-01-10</td>\n",
       "      <td>26.15</td>\n",
       "      <td>3.92</td>\n",
       "    </tr>\n",
       "    <tr>\n",
       "      <th>6386</th>\n",
       "      <td>1997-01-13</td>\n",
       "      <td>25.20</td>\n",
       "      <td>4.00</td>\n",
       "    </tr>\n",
       "  </tbody>\n",
       "</table>\n",
       "</div>"
      ],
      "text/plain": [
       "            Day  WTI Oil  Henry Hub Gas\n",
       "6390 1997-01-07    26.25           3.82\n",
       "6389 1997-01-08    26.55           3.80\n",
       "6388 1997-01-09    26.30           3.61\n",
       "6387 1997-01-10    26.15           3.92\n",
       "6386 1997-01-13    25.20           4.00"
      ]
     },
     "execution_count": 75,
     "metadata": {},
     "output_type": "execute_result"
    }
   ],
   "source": [
    "df_oilgas.head()"
   ]
  },
  {
   "cell_type": "code",
   "execution_count": 76,
   "id": "2da6f682",
   "metadata": {},
   "outputs": [],
   "source": [
    "df_oilgas.rename(columns = {'Day':'Date' }, inplace = True)"
   ]
  },
  {
   "cell_type": "code",
   "execution_count": 77,
   "id": "6941ee50",
   "metadata": {},
   "outputs": [
    {
     "data": {
      "text/plain": [
       "<AxesSubplot:xlabel='Date'>"
      ]
     },
     "execution_count": 77,
     "metadata": {},
     "output_type": "execute_result"
    },
    {
     "data": {
      "image/png": "[encoded data removed]",
      "text/plain": [
       "<Figure size 1080x1080 with 1 Axes>"
      ]
     },
     "metadata": {},
     "output_type": "display_data"
    }
   ],
   "source": [
    "df_oilgas.plot(x=\"Date\", y=[\"WTI Oil\", \"Henry Hub Gas\"], kind=\"line\", figsize=(15, 15))\n"
   ]
  },
  {
   "cell_type": "markdown",
   "id": "4a65ac62",
   "metadata": {},
   "source": [
    "We decided not to use this data becauase we were able to find the Weekly Gas Price According to the EIA. "
   ]
  },
  {
   "cell_type": "code",
   "execution_count": 78,
   "id": "8705c1ca",
   "metadata": {},
   "outputs": [],
   "source": [
    "df = pd.read_csv(\"data/PET_PRI_GND_DCUS_NUS_W.csv\")"
   ]
  },
  {
   "cell_type": "code",
   "execution_count": 79,
   "id": "f4cfd559",
   "metadata": {
    "scrolled": true
   },
   "outputs": [
    {
     "name": "stdout",
     "output_type": "stream",
     "text": [
      "         Date  EIA Gasoline\n",
      "0  1990-08-20         1.191\n",
      "1  1990-08-27         1.245\n",
      "2  1990-09-03         1.242\n",
      "3  1990-09-10         1.252\n",
      "4  1990-09-17         1.266\n"
     ]
    }
   ],
   "source": [
    "print(df.head())"
   ]
  },
  {
   "cell_type": "code",
   "execution_count": 80,
   "id": "7c5d47b1",
   "metadata": {},
   "outputs": [
    {
     "name": "stdout",
     "output_type": "stream",
     "text": [
      "<class 'pandas.core.frame.DataFrame'>\n",
      "RangeIndex: 1658 entries, 0 to 1657\n",
      "Data columns (total 2 columns):\n",
      " #   Column        Non-Null Count  Dtype  \n",
      "---  ------        --------------  -----  \n",
      " 0   Date          1658 non-null   object \n",
      " 1   EIA Gasoline  1658 non-null   float64\n",
      "dtypes: float64(1), object(1)\n",
      "memory usage: 26.0+ KB\n"
     ]
    }
   ],
   "source": [
    "df.info()"
   ]
  },
  {
   "cell_type": "code",
   "execution_count": 81,
   "id": "c5a7fe70",
   "metadata": {},
   "outputs": [],
   "source": [
    "df.index = pd.to_datetime(df['Date'], format='%Y-%m-%d')"
   ]
  },
  {
   "cell_type": "code",
   "execution_count": 82,
   "id": "2dde364a",
   "metadata": {},
   "outputs": [],
   "source": [
    "del df['Date']"
   ]
  },
  {
   "cell_type": "code",
   "execution_count": 83,
   "id": "653ba557",
   "metadata": {},
   "outputs": [
    {
     "data": {
      "text/html": [
       "<div>\n",
       "<style scoped>\n",
       "    .dataframe tbody tr th:only-of-type {\n",
       "        vertical-align: middle;\n",
       "    }\n",
       "\n",
       "    .dataframe tbody tr th {\n",
       "        vertical-align: top;\n",
       "    }\n",
       "\n",
       "    .dataframe thead th {\n",
       "        text-align: right;\n",
       "    }\n",
       "</style>\n",
       "<table border=\"1\" class=\"dataframe\">\n",
       "  <thead>\n",
       "    <tr style=\"text-align: right;\">\n",
       "      <th></th>\n",
       "      <th>EIA Gasoline</th>\n",
       "    </tr>\n",
       "    <tr>\n",
       "      <th>Date</th>\n",
       "      <th></th>\n",
       "    </tr>\n",
       "  </thead>\n",
       "  <tbody>\n",
       "    <tr>\n",
       "      <th>1990-08-20</th>\n",
       "      <td>1.191</td>\n",
       "    </tr>\n",
       "    <tr>\n",
       "      <th>1990-08-27</th>\n",
       "      <td>1.245</td>\n",
       "    </tr>\n",
       "    <tr>\n",
       "      <th>1990-09-03</th>\n",
       "      <td>1.242</td>\n",
       "    </tr>\n",
       "    <tr>\n",
       "      <th>1990-09-10</th>\n",
       "      <td>1.252</td>\n",
       "    </tr>\n",
       "    <tr>\n",
       "      <th>1990-09-17</th>\n",
       "      <td>1.266</td>\n",
       "    </tr>\n",
       "    <tr>\n",
       "      <th>...</th>\n",
       "      <td>...</td>\n",
       "    </tr>\n",
       "    <tr>\n",
       "      <th>2022-06-06</th>\n",
       "      <td>4.702</td>\n",
       "    </tr>\n",
       "    <tr>\n",
       "      <th>2022-06-13</th>\n",
       "      <td>4.844</td>\n",
       "    </tr>\n",
       "    <tr>\n",
       "      <th>2022-06-20</th>\n",
       "      <td>4.798</td>\n",
       "    </tr>\n",
       "    <tr>\n",
       "      <th>2022-06-27</th>\n",
       "      <td>4.710</td>\n",
       "    </tr>\n",
       "    <tr>\n",
       "      <th>2022-07-04</th>\n",
       "      <td>4.619</td>\n",
       "    </tr>\n",
       "  </tbody>\n",
       "</table>\n",
       "<p>1658 rows × 1 columns</p>\n",
       "</div>"
      ],
      "text/plain": [
       "            EIA Gasoline\n",
       "Date                    \n",
       "1990-08-20         1.191\n",
       "1990-08-27         1.245\n",
       "1990-09-03         1.242\n",
       "1990-09-10         1.252\n",
       "1990-09-17         1.266\n",
       "...                  ...\n",
       "2022-06-06         4.702\n",
       "2022-06-13         4.844\n",
       "2022-06-20         4.798\n",
       "2022-06-27         4.710\n",
       "2022-07-04         4.619\n",
       "\n",
       "[1658 rows x 1 columns]"
      ]
     },
     "execution_count": 83,
     "metadata": {},
     "output_type": "execute_result"
    }
   ],
   "source": [
    "df"
   ]
  },
  {
   "cell_type": "code",
   "execution_count": 84,
   "id": "e7fb13fc",
   "metadata": {},
   "outputs": [],
   "source": [
    "import matplotlib.pyplot as plt\n",
    "import seaborn as sns\n",
    "sns.set()"
   ]
  },
  {
   "cell_type": "code",
   "execution_count": 85,
   "id": "7fa2794d",
   "metadata": {},
   "outputs": [
    {
     "data": {
      "text/plain": [
       "(array([ 6574.,  8035.,  9496., 10957., 12418., 13879., 15340., 16801.,\n",
       "        18262., 19723.]),\n",
       " [Text(0, 0, ''),\n",
       "  Text(0, 0, ''),\n",
       "  Text(0, 0, ''),\n",
       "  Text(0, 0, ''),\n",
       "  Text(0, 0, ''),\n",
       "  Text(0, 0, ''),\n",
       "  Text(0, 0, ''),\n",
       "  Text(0, 0, ''),\n",
       "  Text(0, 0, ''),\n",
       "  Text(0, 0, '')])"
      ]
     },
     "execution_count": 85,
     "metadata": {},
     "output_type": "execute_result"
    },
    {
     "data": {
      "image/png": "[encoded data removed]",
      "text/plain": [
       "<Figure size 432x288 with 1 Axes>"
      ]
     },
     "metadata": {},
     "output_type": "display_data"
    }
   ],
   "source": [
    "plt.plot(df.index, df['EIA Gasoline'], )\n",
    "plt.ylabel('Gasoline Price')\n",
    "plt.xlabel('Date')\n",
    "plt.xticks(rotation=45)"
   ]
  },
  {
   "cell_type": "markdown",
   "id": "f129ac21",
   "metadata": {},
   "source": [
    "We Split this Data using a Train/Test Split using May 4, 2020 as our date. If you refer to the graph above you can see the negative Oil Price due to the COVID-19 Pandemic."
   ]
  },
  {
   "cell_type": "code",
   "execution_count": 86,
   "id": "232d6049",
   "metadata": {},
   "outputs": [
    {
     "data": {
      "image/png": "[encoded data removed]",
      "text/plain": [
       "<Figure size 432x288 with 1 Axes>"
      ]
     },
     "metadata": {},
     "output_type": "display_data"
    }
   ],
   "source": [
    "test_df = df[df.index < pd.to_datetime(\"2020-05-04\", format='%Y-%m-%d')]\n",
    "train_df = df[df.index > pd.to_datetime(\"2020-05-04\", format='%Y-%m-%d')]\n",
    "\n",
    "plt.plot(train_df, color = \"red\")\n",
    "plt.plot(test_df, color = \"black\")\n",
    "plt.ylabel('Gasoline Price')\n",
    "plt.xlabel('Date')\n",
    "plt.xticks(rotation=45)\n",
    "plt.title(\"Train/Test split for Gasoline Data\")\n",
    "plt.show()"
   ]
  },
  {
   "cell_type": "code",
   "execution_count": 87,
   "id": "622134b4",
   "metadata": {},
   "outputs": [
    {
     "data": {
      "text/html": [
       "<div>\n",
       "<style scoped>\n",
       "    .dataframe tbody tr th:only-of-type {\n",
       "        vertical-align: middle;\n",
       "    }\n",
       "\n",
       "    .dataframe tbody tr th {\n",
       "        vertical-align: top;\n",
       "    }\n",
       "\n",
       "    .dataframe thead th {\n",
       "        text-align: right;\n",
       "    }\n",
       "</style>\n",
       "<table border=\"1\" class=\"dataframe\">\n",
       "  <thead>\n",
       "    <tr style=\"text-align: right;\">\n",
       "      <th></th>\n",
       "      <th>EIA Gasoline</th>\n",
       "    </tr>\n",
       "    <tr>\n",
       "      <th>Date</th>\n",
       "      <th></th>\n",
       "    </tr>\n",
       "  </thead>\n",
       "  <tbody>\n",
       "    <tr>\n",
       "      <th>1990-08-20</th>\n",
       "      <td>1.191</td>\n",
       "    </tr>\n",
       "    <tr>\n",
       "      <th>1990-08-27</th>\n",
       "      <td>1.245</td>\n",
       "    </tr>\n",
       "    <tr>\n",
       "      <th>1990-09-03</th>\n",
       "      <td>1.242</td>\n",
       "    </tr>\n",
       "    <tr>\n",
       "      <th>1990-09-10</th>\n",
       "      <td>1.252</td>\n",
       "    </tr>\n",
       "    <tr>\n",
       "      <th>1990-09-17</th>\n",
       "      <td>1.266</td>\n",
       "    </tr>\n",
       "    <tr>\n",
       "      <th>...</th>\n",
       "      <td>...</td>\n",
       "    </tr>\n",
       "    <tr>\n",
       "      <th>2020-03-30</th>\n",
       "      <td>1.886</td>\n",
       "    </tr>\n",
       "    <tr>\n",
       "      <th>2020-04-06</th>\n",
       "      <td>1.800</td>\n",
       "    </tr>\n",
       "    <tr>\n",
       "      <th>2020-04-13</th>\n",
       "      <td>1.735</td>\n",
       "    </tr>\n",
       "    <tr>\n",
       "      <th>2020-04-20</th>\n",
       "      <td>1.694</td>\n",
       "    </tr>\n",
       "    <tr>\n",
       "      <th>2020-04-27</th>\n",
       "      <td>1.655</td>\n",
       "    </tr>\n",
       "  </tbody>\n",
       "</table>\n",
       "<p>1544 rows × 1 columns</p>\n",
       "</div>"
      ],
      "text/plain": [
       "            EIA Gasoline\n",
       "Date                    \n",
       "1990-08-20         1.191\n",
       "1990-08-27         1.245\n",
       "1990-09-03         1.242\n",
       "1990-09-10         1.252\n",
       "1990-09-17         1.266\n",
       "...                  ...\n",
       "2020-03-30         1.886\n",
       "2020-04-06         1.800\n",
       "2020-04-13         1.735\n",
       "2020-04-20         1.694\n",
       "2020-04-27         1.655\n",
       "\n",
       "[1544 rows x 1 columns]"
      ]
     },
     "execution_count": 87,
     "metadata": {},
     "output_type": "execute_result"
    }
   ],
   "source": [
    "test_df_gas = test_df['EIA Gasoline']\n",
    "test_df_gas = pd.DataFrame(test_df)\n",
    "test_df_gas"
   ]
  },
  {
   "cell_type": "code",
   "execution_count": 88,
   "id": "70c93d8c",
   "metadata": {},
   "outputs": [
    {
     "data": {
      "text/html": [
       "<div>\n",
       "<style scoped>\n",
       "    .dataframe tbody tr th:only-of-type {\n",
       "        vertical-align: middle;\n",
       "    }\n",
       "\n",
       "    .dataframe tbody tr th {\n",
       "        vertical-align: top;\n",
       "    }\n",
       "\n",
       "    .dataframe thead th {\n",
       "        text-align: right;\n",
       "    }\n",
       "</style>\n",
       "<table border=\"1\" class=\"dataframe\">\n",
       "  <thead>\n",
       "    <tr style=\"text-align: right;\">\n",
       "      <th></th>\n",
       "      <th>EIA Gasoline</th>\n",
       "    </tr>\n",
       "    <tr>\n",
       "      <th>Date</th>\n",
       "      <th></th>\n",
       "    </tr>\n",
       "  </thead>\n",
       "  <tbody>\n",
       "    <tr>\n",
       "      <th>2020-05-11</th>\n",
       "      <td>1.750</td>\n",
       "    </tr>\n",
       "    <tr>\n",
       "      <th>2020-05-18</th>\n",
       "      <td>1.776</td>\n",
       "    </tr>\n",
       "    <tr>\n",
       "      <th>2020-05-25</th>\n",
       "      <td>1.870</td>\n",
       "    </tr>\n",
       "    <tr>\n",
       "      <th>2020-06-01</th>\n",
       "      <td>1.883</td>\n",
       "    </tr>\n",
       "    <tr>\n",
       "      <th>2020-06-08</th>\n",
       "      <td>1.947</td>\n",
       "    </tr>\n",
       "    <tr>\n",
       "      <th>...</th>\n",
       "      <td>...</td>\n",
       "    </tr>\n",
       "    <tr>\n",
       "      <th>2022-06-06</th>\n",
       "      <td>4.702</td>\n",
       "    </tr>\n",
       "    <tr>\n",
       "      <th>2022-06-13</th>\n",
       "      <td>4.844</td>\n",
       "    </tr>\n",
       "    <tr>\n",
       "      <th>2022-06-20</th>\n",
       "      <td>4.798</td>\n",
       "    </tr>\n",
       "    <tr>\n",
       "      <th>2022-06-27</th>\n",
       "      <td>4.710</td>\n",
       "    </tr>\n",
       "    <tr>\n",
       "      <th>2022-07-04</th>\n",
       "      <td>4.619</td>\n",
       "    </tr>\n",
       "  </tbody>\n",
       "</table>\n",
       "<p>113 rows × 1 columns</p>\n",
       "</div>"
      ],
      "text/plain": [
       "            EIA Gasoline\n",
       "Date                    \n",
       "2020-05-11         1.750\n",
       "2020-05-18         1.776\n",
       "2020-05-25         1.870\n",
       "2020-06-01         1.883\n",
       "2020-06-08         1.947\n",
       "...                  ...\n",
       "2022-06-06         4.702\n",
       "2022-06-13         4.844\n",
       "2022-06-20         4.798\n",
       "2022-06-27         4.710\n",
       "2022-07-04         4.619\n",
       "\n",
       "[113 rows x 1 columns]"
      ]
     },
     "execution_count": 88,
     "metadata": {},
     "output_type": "execute_result"
    }
   ],
   "source": [
    "train_df_gas = train_df['EIA Gasoline']\n",
    "train_df_gas = pd.DataFrame(train_df)\n",
    "train_df_gas"
   ]
  },
  {
   "cell_type": "code",
   "execution_count": 89,
   "id": "eb359f0f",
   "metadata": {},
   "outputs": [],
   "source": [
    "def Dickey_Fuller_Test(ts):\n",
    "    \n",
    "    dftest = adfuller(ts)        # Dickey-Fuller Test\n",
    "    # To Test for Stationairity due to a Graph that is for the most part stationairy\n",
    "    dfoutput = pd.Series(\n",
    "                    dftest[0:4], \n",
    "                    index=['Test Statistic','p-value','#Lags Used','Number of Observations Used']\n",
    "    )\n",
    "\n",
    "    for key,value in dftest[4].items():\n",
    "        dfoutput['Critical Value (%s)'%key] = value\n",
    "\n",
    "    return dfoutput"
   ]
  },
  {
   "cell_type": "code",
   "execution_count": 90,
   "id": "abd012b9",
   "metadata": {},
   "outputs": [
    {
     "name": "stdout",
     "output_type": "stream",
     "text": [
      "EIA Gasoline \n",
      " Test Statistic                   0.710158\n",
      "p-value                          0.990038\n",
      "#Lags Used                       4.000000\n",
      "Number of Observations Used    108.000000\n",
      "Critical Value (1%)             -3.492401\n",
      "Critical Value (5%)             -2.888697\n",
      "Critical Value (10%)            -2.581255\n",
      "dtype: float64 \n",
      "\n"
     ]
    }
   ],
   "source": [
    "print(\"EIA Gasoline\", '\\n', Dickey_Fuller_Test(train_df_gas), '\\n')"
   ]
  },
  {
   "cell_type": "markdown",
   "id": "be679239",
   "metadata": {},
   "source": [
    "We used an ARIMA  model to predict and forecast future Gas prices. We ran two models."
   ]
  },
  {
   "cell_type": "code",
   "execution_count": 91,
   "id": "ee97497e",
   "metadata": {},
   "outputs": [
    {
     "name": "stderr",
     "output_type": "stream",
     "text": [
      "/Users/rishiahuja515/opt/anaconda3/envs/learn-env/lib/python3.8/site-packages/statsmodels/tsa/base/tsa_model.py:524: ValueWarning: No frequency information was provided, so inferred frequency W-MON will be used.\n",
      "  warnings.warn('No frequency information was'\n",
      "/Users/rishiahuja515/opt/anaconda3/envs/learn-env/lib/python3.8/site-packages/statsmodels/tsa/base/tsa_model.py:524: ValueWarning: No frequency information was provided, so inferred frequency W-MON will be used.\n",
      "  warnings.warn('No frequency information was'\n",
      "/Users/rishiahuja515/opt/anaconda3/envs/learn-env/lib/python3.8/site-packages/statsmodels/tsa/base/tsa_model.py:524: ValueWarning: No frequency information was provided, so inferred frequency W-MON will be used.\n",
      "  warnings.warn('No frequency information was'\n"
     ]
    },
    {
     "name": "stdout",
     "output_type": "stream",
     "text": [
      "                               SARIMAX Results                                \n",
      "==============================================================================\n",
      "Dep. Variable:           EIA Gasoline   No. Observations:                  113\n",
      "Model:                 ARIMA(5, 1, 0)   Log Likelihood                 155.369\n",
      "Date:                Wed, 13 Jul 2022   AIC                           -298.738\n",
      "Time:                        22:26:20   BIC                           -282.427\n",
      "Sample:                    05-11-2020   HQIC                          -292.120\n",
      "                         - 07-04-2022                                         \n",
      "Covariance Type:                  opg                                         \n",
      "==============================================================================\n",
      "                 coef    std err          z      P>|z|      [0.025      0.975]\n",
      "------------------------------------------------------------------------------\n",
      "ar.L1          0.6424      0.100      6.408      0.000       0.446       0.839\n",
      "ar.L2         -0.2827      0.092     -3.071      0.002      -0.463      -0.102\n",
      "ar.L3          0.2727      0.144      1.897      0.058      -0.009       0.554\n",
      "ar.L4         -0.1401      0.131     -1.067      0.286      -0.397       0.117\n",
      "ar.L5          0.0184      0.228      0.081      0.936      -0.429       0.466\n",
      "sigma2         0.0036      0.000     16.593      0.000       0.003       0.004\n",
      "===================================================================================\n",
      "Ljung-Box (L1) (Q):                   0.16   Jarque-Bera (JB):              2919.02\n",
      "Prob(Q):                              0.69   Prob(JB):                         0.00\n",
      "Heteroskedasticity (H):               9.33   Skew:                             3.78\n",
      "Prob(H) (two-sided):                  0.00   Kurtosis:                        26.84\n",
      "===================================================================================\n",
      "\n",
      "Warnings:\n",
      "[1] Covariance matrix calculated using the outer product of gradients (complex-step).\n"
     ]
    }
   ],
   "source": [
    "gas_train2 = train_df['EIA Gasoline']\n",
    "\n",
    "\n",
    "gas_train2_model = ARIMA(gas_train2, order = (5,1,0))\n",
    "gas_train2_model_fit = gas_train2_model.fit()\n",
    "print(gas_train2_model_fit.summary())"
   ]
  },
  {
   "cell_type": "code",
   "execution_count": 92,
   "id": "4307597d",
   "metadata": {},
   "outputs": [
    {
     "data": {
      "text/plain": [
       "<statsmodels.tsa.arima.model.ARIMAResultsWrapper at 0x7f8cd99ef190>"
      ]
     },
     "execution_count": 92,
     "metadata": {},
     "output_type": "execute_result"
    }
   ],
   "source": [
    "gas_train2_model_fit"
   ]
  },
  {
   "cell_type": "code",
   "execution_count": 93,
   "id": "433ee803",
   "metadata": {},
   "outputs": [
    {
     "data": {
      "text/html": [
       "<div>\n",
       "<style scoped>\n",
       "    .dataframe tbody tr th:only-of-type {\n",
       "        vertical-align: middle;\n",
       "    }\n",
       "\n",
       "    .dataframe tbody tr th {\n",
       "        vertical-align: top;\n",
       "    }\n",
       "\n",
       "    .dataframe thead th {\n",
       "        text-align: right;\n",
       "    }\n",
       "</style>\n",
       "<table border=\"1\" class=\"dataframe\">\n",
       "  <thead>\n",
       "    <tr style=\"text-align: right;\">\n",
       "      <th></th>\n",
       "      <th>predicted_mean</th>\n",
       "    </tr>\n",
       "  </thead>\n",
       "  <tbody>\n",
       "    <tr>\n",
       "      <th>2020-05-11</th>\n",
       "      <td>0.000000</td>\n",
       "    </tr>\n",
       "    <tr>\n",
       "      <th>2020-05-18</th>\n",
       "      <td>1.750000</td>\n",
       "    </tr>\n",
       "    <tr>\n",
       "      <th>2020-05-25</th>\n",
       "      <td>1.789526</td>\n",
       "    </tr>\n",
       "    <tr>\n",
       "      <th>2020-06-01</th>\n",
       "      <td>1.921993</td>\n",
       "    </tr>\n",
       "    <tr>\n",
       "      <th>2020-06-08</th>\n",
       "      <td>1.872764</td>\n",
       "    </tr>\n",
       "    <tr>\n",
       "      <th>...</th>\n",
       "      <td>...</td>\n",
       "    </tr>\n",
       "    <tr>\n",
       "      <th>2022-06-06</th>\n",
       "      <td>4.458646</td>\n",
       "    </tr>\n",
       "    <tr>\n",
       "      <th>2022-06-13</th>\n",
       "      <td>4.867409</td>\n",
       "    </tr>\n",
       "    <tr>\n",
       "      <th>2022-06-20</th>\n",
       "      <td>4.859088</td>\n",
       "    </tr>\n",
       "    <tr>\n",
       "      <th>2022-06-27</th>\n",
       "      <td>4.797602</td>\n",
       "    </tr>\n",
       "    <tr>\n",
       "      <th>2022-07-04</th>\n",
       "      <td>4.668872</td>\n",
       "    </tr>\n",
       "  </tbody>\n",
       "</table>\n",
       "<p>113 rows × 1 columns</p>\n",
       "</div>"
      ],
      "text/plain": [
       "            predicted_mean\n",
       "2020-05-11        0.000000\n",
       "2020-05-18        1.750000\n",
       "2020-05-25        1.789526\n",
       "2020-06-01        1.921993\n",
       "2020-06-08        1.872764\n",
       "...                    ...\n",
       "2022-06-06        4.458646\n",
       "2022-06-13        4.867409\n",
       "2022-06-20        4.859088\n",
       "2022-06-27        4.797602\n",
       "2022-07-04        4.668872\n",
       "\n",
       "[113 rows x 1 columns]"
      ]
     },
     "execution_count": 93,
     "metadata": {},
     "output_type": "execute_result"
    }
   ],
   "source": [
    "predict2 = gas_train2_model_fit.predict()\n",
    "gas_train2_predict = pd.DataFrame(predict2)\n",
    "gas_train2_predict"
   ]
  },
  {
   "cell_type": "code",
   "execution_count": 94,
   "id": "42ea5aa7",
   "metadata": {},
   "outputs": [
    {
     "data": {
      "text/html": [
       "<div>\n",
       "<style scoped>\n",
       "    .dataframe tbody tr th:only-of-type {\n",
       "        vertical-align: middle;\n",
       "    }\n",
       "\n",
       "    .dataframe tbody tr th {\n",
       "        vertical-align: top;\n",
       "    }\n",
       "\n",
       "    .dataframe thead th {\n",
       "        text-align: right;\n",
       "    }\n",
       "</style>\n",
       "<table border=\"1\" class=\"dataframe\">\n",
       "  <thead>\n",
       "    <tr style=\"text-align: right;\">\n",
       "      <th></th>\n",
       "      <th>predicted_mean</th>\n",
       "    </tr>\n",
       "  </thead>\n",
       "  <tbody>\n",
       "    <tr>\n",
       "      <th>2022-07-11</th>\n",
       "      <td>4.557824</td>\n",
       "    </tr>\n",
       "    <tr>\n",
       "      <th>2022-07-18</th>\n",
       "      <td>4.529318</td>\n",
       "    </tr>\n",
       "    <tr>\n",
       "      <th>2022-07-25</th>\n",
       "      <td>4.514975</td>\n",
       "    </tr>\n",
       "    <tr>\n",
       "      <th>2022-08-01</th>\n",
       "      <td>4.508271</td>\n",
       "    </tr>\n",
       "    <tr>\n",
       "      <th>2022-08-08</th>\n",
       "      <td>4.507144</td>\n",
       "    </tr>\n",
       "    <tr>\n",
       "      <th>...</th>\n",
       "      <td>...</td>\n",
       "    </tr>\n",
       "    <tr>\n",
       "      <th>2032-01-05</th>\n",
       "      <td>4.508137</td>\n",
       "    </tr>\n",
       "    <tr>\n",
       "      <th>2032-01-12</th>\n",
       "      <td>4.508137</td>\n",
       "    </tr>\n",
       "    <tr>\n",
       "      <th>2032-01-19</th>\n",
       "      <td>4.508137</td>\n",
       "    </tr>\n",
       "    <tr>\n",
       "      <th>2032-01-26</th>\n",
       "      <td>4.508137</td>\n",
       "    </tr>\n",
       "    <tr>\n",
       "      <th>2032-02-02</th>\n",
       "      <td>4.508137</td>\n",
       "    </tr>\n",
       "  </tbody>\n",
       "</table>\n",
       "<p>500 rows × 1 columns</p>\n",
       "</div>"
      ],
      "text/plain": [
       "            predicted_mean\n",
       "2022-07-11        4.557824\n",
       "2022-07-18        4.529318\n",
       "2022-07-25        4.514975\n",
       "2022-08-01        4.508271\n",
       "2022-08-08        4.507144\n",
       "...                    ...\n",
       "2032-01-05        4.508137\n",
       "2032-01-12        4.508137\n",
       "2032-01-19        4.508137\n",
       "2032-01-26        4.508137\n",
       "2032-02-02        4.508137\n",
       "\n",
       "[500 rows x 1 columns]"
      ]
     },
     "execution_count": 94,
     "metadata": {},
     "output_type": "execute_result"
    }
   ],
   "source": [
    "gas2_forecast = gas_train2_model_fit.forecast(steps=500)\n",
    "gas2_forecast = pd.DataFrame(gas2_forecast)\n",
    "gas2_forecast"
   ]
  },
  {
   "cell_type": "markdown",
   "id": "e86baeea",
   "metadata": {},
   "source": [
    "We decided not to use this model because or predictions were too stable, and with the volatility of the oil and gas market that doesn't compute properly."
   ]
  },
  {
   "cell_type": "markdown",
   "id": "699289e4",
   "metadata": {},
   "source": [
    "# Model Used for Projection"
   ]
  },
  {
   "cell_type": "code",
   "execution_count": 95,
   "id": "eef3c865",
   "metadata": {},
   "outputs": [
    {
     "name": "stderr",
     "output_type": "stream",
     "text": [
      "/Users/rishiahuja515/opt/anaconda3/envs/learn-env/lib/python3.8/site-packages/statsmodels/tsa/base/tsa_model.py:524: ValueWarning: No frequency information was provided, so inferred frequency W-MON will be used.\n",
      "  warnings.warn('No frequency information was'\n",
      "/Users/rishiahuja515/opt/anaconda3/envs/learn-env/lib/python3.8/site-packages/statsmodels/tsa/base/tsa_model.py:524: ValueWarning: No frequency information was provided, so inferred frequency W-MON will be used.\n",
      "  warnings.warn('No frequency information was'\n",
      "/Users/rishiahuja515/opt/anaconda3/envs/learn-env/lib/python3.8/site-packages/statsmodels/tsa/base/tsa_model.py:524: ValueWarning: No frequency information was provided, so inferred frequency W-MON will be used.\n",
      "  warnings.warn('No frequency information was'\n",
      "/Users/rishiahuja515/opt/anaconda3/envs/learn-env/lib/python3.8/site-packages/statsmodels/tsa/statespace/sarimax.py:965: UserWarning: Non-stationary starting autoregressive parameters found. Using zeros as starting parameters.\n",
      "  warn('Non-stationary starting autoregressive parameters'\n"
     ]
    },
    {
     "name": "stdout",
     "output_type": "stream",
     "text": [
      "                               SARIMAX Results                                \n",
      "==============================================================================\n",
      "Dep. Variable:           EIA Gasoline   No. Observations:                  113\n",
      "Model:                 ARIMA(3, 0, 1)   Log Likelihood                 154.786\n",
      "Date:                Wed, 13 Jul 2022   AIC                           -297.571\n",
      "Time:                        22:26:21   BIC                           -281.207\n",
      "Sample:                    05-11-2020   HQIC                          -290.931\n",
      "                         - 07-04-2022                                         \n",
      "Covariance Type:                  opg                                         \n",
      "==============================================================================\n",
      "                 coef    std err          z      P>|z|      [0.025      0.975]\n",
      "------------------------------------------------------------------------------\n",
      "const          3.0751      1.105      2.784      0.005       0.910       5.240\n",
      "ar.L1          0.7434      0.104      7.153      0.000       0.540       0.947\n",
      "ar.L2          0.5531      0.150      3.677      0.000       0.258       0.848\n",
      "ar.L3         -0.3014      0.105     -2.866      0.004      -0.508      -0.095\n",
      "ma.L1          0.9248      0.059     15.778      0.000       0.810       1.040\n",
      "sigma2         0.0036      0.000     21.133      0.000       0.003       0.004\n",
      "===================================================================================\n",
      "Ljung-Box (L1) (Q):                   0.18   Jarque-Bera (JB):              3130.03\n",
      "Prob(Q):                              0.67   Prob(JB):                         0.00\n",
      "Heteroskedasticity (H):               8.47   Skew:                             3.87\n",
      "Prob(H) (two-sided):                  0.00   Kurtosis:                        27.60\n",
      "===================================================================================\n",
      "\n",
      "Warnings:\n",
      "[1] Covariance matrix calculated using the outer product of gradients (complex-step).\n"
     ]
    },
    {
     "name": "stderr",
     "output_type": "stream",
     "text": [
      "/Users/rishiahuja515/opt/anaconda3/envs/learn-env/lib/python3.8/site-packages/statsmodels/base/model.py:566: ConvergenceWarning: Maximum Likelihood optimization failed to converge. Check mle_retvals\n",
      "  warnings.warn(\"Maximum Likelihood optimization failed to \"\n"
     ]
    }
   ],
   "source": [
    "gas_train = train_df['EIA Gasoline']\n",
    "\n",
    "\n",
    "gas_train_model = ARIMA(gas_train, order = (3,0,1))\n",
    "gas_train_model_fit = gas_train_model.fit()\n",
    "print(gas_train_model_fit.summary())"
   ]
  },
  {
   "cell_type": "code",
   "execution_count": 96,
   "id": "3aedd8ec",
   "metadata": {
    "scrolled": true
   },
   "outputs": [
    {
     "data": {
      "text/plain": [
       "<statsmodels.tsa.arima.model.ARIMAResultsWrapper at 0x7f8cdb90ec40>"
      ]
     },
     "execution_count": 96,
     "metadata": {},
     "output_type": "execute_result"
    }
   ],
   "source": [
    "gas_train_model_fit"
   ]
  },
  {
   "cell_type": "code",
   "execution_count": 97,
   "id": "04bde84f",
   "metadata": {
    "scrolled": false
   },
   "outputs": [
    {
     "data": {
      "text/html": [
       "<div>\n",
       "<style scoped>\n",
       "    .dataframe tbody tr th:only-of-type {\n",
       "        vertical-align: middle;\n",
       "    }\n",
       "\n",
       "    .dataframe tbody tr th {\n",
       "        vertical-align: top;\n",
       "    }\n",
       "\n",
       "    .dataframe thead th {\n",
       "        text-align: right;\n",
       "    }\n",
       "</style>\n",
       "<table border=\"1\" class=\"dataframe\">\n",
       "  <thead>\n",
       "    <tr style=\"text-align: right;\">\n",
       "      <th></th>\n",
       "      <th>predicted_mean</th>\n",
       "    </tr>\n",
       "  </thead>\n",
       "  <tbody>\n",
       "    <tr>\n",
       "      <th>2020-05-11</th>\n",
       "      <td>3.075128</td>\n",
       "    </tr>\n",
       "    <tr>\n",
       "      <th>2020-05-18</th>\n",
       "      <td>1.752526</td>\n",
       "    </tr>\n",
       "    <tr>\n",
       "      <th>2020-05-25</th>\n",
       "      <td>1.793274</td>\n",
       "    </tr>\n",
       "    <tr>\n",
       "      <th>2020-06-01</th>\n",
       "      <td>1.924961</td>\n",
       "    </tr>\n",
       "    <tr>\n",
       "      <th>2020-06-08</th>\n",
       "      <td>1.877827</td>\n",
       "    </tr>\n",
       "    <tr>\n",
       "      <th>...</th>\n",
       "      <td>...</td>\n",
       "    </tr>\n",
       "    <tr>\n",
       "      <th>2022-06-06</th>\n",
       "      <td>4.459906</td>\n",
       "    </tr>\n",
       "    <tr>\n",
       "      <th>2022-06-13</th>\n",
       "      <td>4.860399</td>\n",
       "    </tr>\n",
       "    <tr>\n",
       "      <th>2022-06-20</th>\n",
       "      <td>4.863629</td>\n",
       "    </tr>\n",
       "    <tr>\n",
       "      <th>2022-06-27</th>\n",
       "      <td>4.783166</td>\n",
       "    </tr>\n",
       "    <tr>\n",
       "      <th>2022-07-04</th>\n",
       "      <td>4.642531</td>\n",
       "    </tr>\n",
       "  </tbody>\n",
       "</table>\n",
       "<p>113 rows × 1 columns</p>\n",
       "</div>"
      ],
      "text/plain": [
       "            predicted_mean\n",
       "2020-05-11        3.075128\n",
       "2020-05-18        1.752526\n",
       "2020-05-25        1.793274\n",
       "2020-06-01        1.924961\n",
       "2020-06-08        1.877827\n",
       "...                    ...\n",
       "2022-06-06        4.459906\n",
       "2022-06-13        4.860399\n",
       "2022-06-20        4.863629\n",
       "2022-06-27        4.783166\n",
       "2022-07-04        4.642531\n",
       "\n",
       "[113 rows x 1 columns]"
      ]
     },
     "execution_count": 97,
     "metadata": {},
     "output_type": "execute_result"
    }
   ],
   "source": [
    "predict = gas_train_model_fit.predict()\n",
    "gas_train_predict = pd.DataFrame(predict)\n",
    "gas_train_predict"
   ]
  },
  {
   "cell_type": "code",
   "execution_count": 98,
   "id": "52e64851",
   "metadata": {},
   "outputs": [
    {
     "data": {
      "text/plain": [
       "<AxesSubplot:>"
      ]
     },
     "execution_count": 98,
     "metadata": {},
     "output_type": "execute_result"
    },
    {
     "data": {
      "image/png": "[encoded data removed]",
      "text/plain": [
       "<Figure size 432x288 with 1 Axes>"
      ]
     },
     "metadata": {},
     "output_type": "display_data"
    }
   ],
   "source": [
    "gas_train_predict.plot()"
   ]
  },
  {
   "cell_type": "code",
   "execution_count": 99,
   "id": "0ad7915b",
   "metadata": {},
   "outputs": [
    {
     "data": {
      "text/html": [
       "<div>\n",
       "<style scoped>\n",
       "    .dataframe tbody tr th:only-of-type {\n",
       "        vertical-align: middle;\n",
       "    }\n",
       "\n",
       "    .dataframe tbody tr th {\n",
       "        vertical-align: top;\n",
       "    }\n",
       "\n",
       "    .dataframe thead th {\n",
       "        text-align: right;\n",
       "    }\n",
       "</style>\n",
       "<table border=\"1\" class=\"dataframe\">\n",
       "  <thead>\n",
       "    <tr style=\"text-align: right;\">\n",
       "      <th></th>\n",
       "      <th>predicted_mean</th>\n",
       "    </tr>\n",
       "  </thead>\n",
       "  <tbody>\n",
       "    <tr>\n",
       "      <th>2022-07-11</th>\n",
       "      <td>4.585977</td>\n",
       "    </tr>\n",
       "    <tr>\n",
       "      <th>2022-07-18</th>\n",
       "      <td>4.559385</td>\n",
       "    </tr>\n",
       "    <tr>\n",
       "      <th>2022-07-25</th>\n",
       "      <td>4.548783</td>\n",
       "    </tr>\n",
       "    <tr>\n",
       "      <th>2022-08-01</th>\n",
       "      <td>4.536147</td>\n",
       "    </tr>\n",
       "    <tr>\n",
       "      <th>2022-08-08</th>\n",
       "      <td>4.528906</td>\n",
       "    </tr>\n",
       "    <tr>\n",
       "      <th>...</th>\n",
       "      <td>...</td>\n",
       "    </tr>\n",
       "    <tr>\n",
       "      <th>2032-01-05</th>\n",
       "      <td>3.186597</td>\n",
       "    </tr>\n",
       "    <tr>\n",
       "      <th>2032-01-12</th>\n",
       "      <td>3.186016</td>\n",
       "    </tr>\n",
       "    <tr>\n",
       "      <th>2032-01-19</th>\n",
       "      <td>3.185437</td>\n",
       "    </tr>\n",
       "    <tr>\n",
       "      <th>2032-01-26</th>\n",
       "      <td>3.184862</td>\n",
       "    </tr>\n",
       "    <tr>\n",
       "      <th>2032-02-02</th>\n",
       "      <td>3.184290</td>\n",
       "    </tr>\n",
       "  </tbody>\n",
       "</table>\n",
       "<p>500 rows × 1 columns</p>\n",
       "</div>"
      ],
      "text/plain": [
       "            predicted_mean\n",
       "2022-07-11        4.585977\n",
       "2022-07-18        4.559385\n",
       "2022-07-25        4.548783\n",
       "2022-08-01        4.536147\n",
       "2022-08-08        4.528906\n",
       "...                    ...\n",
       "2032-01-05        3.186597\n",
       "2032-01-12        3.186016\n",
       "2032-01-19        3.185437\n",
       "2032-01-26        3.184862\n",
       "2032-02-02        3.184290\n",
       "\n",
       "[500 rows x 1 columns]"
      ]
     },
     "execution_count": 99,
     "metadata": {},
     "output_type": "execute_result"
    }
   ],
   "source": [
    "gas_forecast = gas_train_model_fit.forecast(steps=500)\n",
    "gas_forecast = pd.DataFrame(gas_forecast)\n",
    "gas_forecast"
   ]
  },
  {
   "cell_type": "code",
   "execution_count": 100,
   "id": "09f9879c",
   "metadata": {},
   "outputs": [
    {
     "data": {
      "image/png": "[encoded data removed]",
      "text/plain": [
       "<Figure size 1080x720 with 1 Axes>"
      ]
     },
     "metadata": {},
     "output_type": "display_data"
    }
   ],
   "source": [
    "\n",
    "fig, ax2 = plt.subplots(figsize=(15, 10))\n",
    "\n",
    "ax2.set_title('Gasoline Price Prediction vs Actual', pad = 20, fontsize = 30) \n",
    "color = 'black'\n",
    "ax2.set_ylabel('Gasoline Price ($)', color = color)\n",
    "ax2.plot(df['EIA Gasoline'], color = \"green\")\n",
    "ax2.plot(gas_forecast.index, gas_forecast['predicted_mean'], color = 'purple')\n",
    "\n",
    "ax2.tick_params(axis ='y', labelcolor = color)\n",
    "plt.legend(['Actual Price', 'Predicted Price', 'Test', 'Preidcted']);\n",
    "ax2.set_xlabel('Year', fontsize = 15)\n",
    "plt.grid()"
   ]
  },
  {
   "cell_type": "code",
   "execution_count": 101,
   "id": "5953a017",
   "metadata": {},
   "outputs": [
    {
     "data": {
      "text/html": [
       "<div>\n",
       "<style scoped>\n",
       "    .dataframe tbody tr th:only-of-type {\n",
       "        vertical-align: middle;\n",
       "    }\n",
       "\n",
       "    .dataframe tbody tr th {\n",
       "        vertical-align: top;\n",
       "    }\n",
       "\n",
       "    .dataframe thead th {\n",
       "        text-align: right;\n",
       "    }\n",
       "</style>\n",
       "<table border=\"1\" class=\"dataframe\">\n",
       "  <thead>\n",
       "    <tr style=\"text-align: right;\">\n",
       "      <th></th>\n",
       "      <th>predicted_mean</th>\n",
       "    </tr>\n",
       "  </thead>\n",
       "  <tbody>\n",
       "    <tr>\n",
       "      <th>2022-07-11</th>\n",
       "      <td>4.585977</td>\n",
       "    </tr>\n",
       "    <tr>\n",
       "      <th>2022-07-18</th>\n",
       "      <td>4.559385</td>\n",
       "    </tr>\n",
       "    <tr>\n",
       "      <th>2022-07-25</th>\n",
       "      <td>4.548783</td>\n",
       "    </tr>\n",
       "    <tr>\n",
       "      <th>2022-08-01</th>\n",
       "      <td>4.536147</td>\n",
       "    </tr>\n",
       "    <tr>\n",
       "      <th>2022-08-08</th>\n",
       "      <td>4.528906</td>\n",
       "    </tr>\n",
       "    <tr>\n",
       "      <th>...</th>\n",
       "      <td>...</td>\n",
       "    </tr>\n",
       "    <tr>\n",
       "      <th>2054-03-16</th>\n",
       "      <td>3.075389</td>\n",
       "    </tr>\n",
       "    <tr>\n",
       "      <th>2054-03-23</th>\n",
       "      <td>3.075388</td>\n",
       "    </tr>\n",
       "    <tr>\n",
       "      <th>2054-03-30</th>\n",
       "      <td>3.075387</td>\n",
       "    </tr>\n",
       "    <tr>\n",
       "      <th>2054-04-06</th>\n",
       "      <td>3.075385</td>\n",
       "    </tr>\n",
       "    <tr>\n",
       "      <th>2054-04-13</th>\n",
       "      <td>3.075384</td>\n",
       "    </tr>\n",
       "  </tbody>\n",
       "</table>\n",
       "<p>1658 rows × 1 columns</p>\n",
       "</div>"
      ],
      "text/plain": [
       "            predicted_mean\n",
       "2022-07-11        4.585977\n",
       "2022-07-18        4.559385\n",
       "2022-07-25        4.548783\n",
       "2022-08-01        4.536147\n",
       "2022-08-08        4.528906\n",
       "...                    ...\n",
       "2054-03-16        3.075389\n",
       "2054-03-23        3.075388\n",
       "2054-03-30        3.075387\n",
       "2054-04-06        3.075385\n",
       "2054-04-13        3.075384\n",
       "\n",
       "[1658 rows x 1 columns]"
      ]
     },
     "execution_count": 101,
     "metadata": {},
     "output_type": "execute_result"
    }
   ],
   "source": [
    "gas_forecast2 = gas_train_model_fit.forecast(steps=1658)\n",
    "gas_forecast2 = pd.DataFrame(gas_forecast2)\n",
    "gas_forecast2"
   ]
  },
  {
   "cell_type": "code",
   "execution_count": 102,
   "id": "ea4af9cb",
   "metadata": {},
   "outputs": [
    {
     "data": {
      "text/plain": [
       "EIA Gasoline    2.907268\n",
       "dtype: float64"
      ]
     },
     "execution_count": 102,
     "metadata": {},
     "output_type": "execute_result"
    }
   ],
   "source": [
    "test_df_error = train_df[1:]\n",
    "test_df_error.mean()\n",
    "\n"
   ]
  },
  {
   "cell_type": "code",
   "execution_count": 103,
   "id": "37b1c73b",
   "metadata": {},
   "outputs": [
    {
     "data": {
      "text/plain": [
       "1.5998210516027755"
      ]
     },
     "execution_count": 103,
     "metadata": {},
     "output_type": "execute_result"
    }
   ],
   "source": [
    "rmse = sqrt(mean_squared_error(df, gas_forecast2))\n",
    "rmse"
   ]
  },
  {
   "attachments": {},
   "cell_type": "markdown",
   "id": "083572f2",
   "metadata": {},
   "source": [
    "Our Root mean square error was 1.59 dollars. This tells us that the price my future gas is off by an average of a $1.59."
   ]
  },
  {
   "cell_type": "markdown",
   "id": "31169e8c",
   "metadata": {},
   "source": [
    "Although the error seems high, it still keeps the prediction above the target line of $2.50"
   ]
  },
  {
   "cell_type": "code",
   "execution_count": null,
   "id": "0e8a2292",
   "metadata": {},
   "outputs": [],
   "source": []
  }
 ],
 "metadata": {
  "kernelspec": {
   "display_name": "Python (learn-env)",
   "language": "python",
   "name": "learn-env"
  },
  "language_info": {
   "codemirror_mode": {
    "name": "ipython",
    "version": 3
   },
   "file_extension": ".py",
   "mimetype": "text/x-python",
   "name": "python",
   "nbconvert_exporter": "python",
   "pygments_lexer": "ipython3",
   "version": "3.8.5"
  }
 },
 "nbformat": 4,
 "nbformat_minor": 5
}
